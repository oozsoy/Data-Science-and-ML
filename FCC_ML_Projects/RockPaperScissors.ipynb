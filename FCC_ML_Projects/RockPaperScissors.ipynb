{
 "cells": [
  {
   "cell_type": "markdown",
   "id": "7749e1c6",
   "metadata": {},
   "source": [
    "## For this challenge, we will create a program (player function) to play Rock, Paper, Scissors with different opponents. A program that picks at random will usually win 50% of the time. To pass this challenge your program must play matches against four different bots defined below (Quincy, Mrugesh, Kris and Abbey), winning at least 60% of the games in each match.\n",
    "\n"
   ]
  },
  {
   "cell_type": "markdown",
   "id": "6bf7739f",
   "metadata": {},
   "source": [
    "## The 'player' function will receive an empty string as an argument for the first game in a match since there is no previous play. It is defined with two arguments\n",
    "\n",
    "## player(prev_play, opponent_history = [ ])\n",
    "\n",
    "## The function is never called with a second argument so that one is completely optional. The player function contains a second argument (opponent_history = [ ]) to keep track of the previous plays of the opponent between consecutive calls of the player function.\n",
    "\n",
    "## You only need the opponent_history argument if you want to keep track of the opponent_history.\n",
    "\n"
   ]
  },
  {
   "cell_type": "markdown",
   "id": "c3d7f38f",
   "metadata": {},
   "source": [
    "### Below a play function is defined to play games between two opponents together with the functions that characterize the stragies of 4 available opponents "
   ]
  },
  {
   "cell_type": "code",
   "execution_count": 64,
   "id": "0cdece41",
   "metadata": {},
   "outputs": [],
   "source": [
    "#import random\n",
    "\n",
    "\n",
    "def play(player1, player2, num_games, verbose=False):\n",
    "    p1_prev_play = \"\"\n",
    "    p2_prev_play = \"\"\n",
    "    results = {\"p1\": 0, \"p2\": 0, \"tie\": 0}\n",
    "\n",
    "    for _ in range(num_games):\n",
    "        p1_play = player1(p2_prev_play)\n",
    "        p2_play = player2(p1_prev_play)\n",
    "\n",
    "        if p1_play == p2_play:\n",
    "            results[\"tie\"] += 1\n",
    "            winner = \"Tie.\"\n",
    "        elif (p1_play == \"P\" and p2_play == \"R\") or (\n",
    "                p1_play == \"R\" and p2_play == \"S\") or (p1_play == \"S\"\n",
    "                                                       and p2_play == \"P\"):\n",
    "            results[\"p1\"] += 1\n",
    "            winner = \"Player 1 wins.\"\n",
    "        elif p2_play == \"P\" and p1_play == \"R\" or p2_play == \"R\" and p1_play == \"S\" or p2_play == \"S\" and p1_play == \"P\":\n",
    "            results[\"p2\"] += 1\n",
    "            winner = \"Player 2 wins.\"\n",
    "\n",
    "        if verbose:\n",
    "            print(\"Player 1:\", p1_play, \"| Player 2:\", p2_play)\n",
    "            print(winner)\n",
    "            print()\n",
    "\n",
    "        p1_prev_play = p1_play\n",
    "        p2_prev_play = p2_play\n",
    "\n",
    "    games_won = results['p2'] + results['p1']\n",
    "\n",
    "    if games_won == 0:\n",
    "        win_rate = 0\n",
    "    else:\n",
    "        win_rate = results['p1'] / games_won * 100\n",
    "\n",
    "    print(\"Final results:\", results)\n",
    "    print(f\"Player 1 win rate: {win_rate}%\")\n",
    "\n",
    "    return (win_rate)\n",
    "\n",
    "\n",
    "def quincy(prev_play, counter=[0]):\n",
    "\n",
    "    counter[0] += 1\n",
    "    choices = [\"R\", \"R\", \"P\", \"P\", \"S\"]\n",
    "    return choices[counter[0] % len(choices)]\n",
    "\n",
    "\n",
    "def mrugesh(prev_opponent_play, opponent_history=[]):\n",
    "    \n",
    "    opponent_history.append(prev_opponent_play)\n",
    "    \n",
    "    last_ten = opponent_history[-10:]\n",
    "    \n",
    "    most_frequent = max(set(last_ten), key=last_ten.count)\n",
    "\n",
    "    if most_frequent == '':\n",
    "        most_frequent = \"S\"\n",
    "\n",
    "    ideal_response = {'P': 'S', 'R': 'P', 'S': 'R'}\n",
    "    return ideal_response[most_frequent]\n",
    "\n",
    "\n",
    "def kris(prev_opponent_play):\n",
    "    if prev_opponent_play == '':\n",
    "        prev_opponent_play = \"R\"\n",
    "    ideal_response = {'P': 'S', 'R': 'P', 'S': 'R'}\n",
    "    return ideal_response[prev_opponent_play]\n",
    "\n",
    "\n",
    "def abbey(prev_opponent_play,\n",
    "          opponent_history=[],\n",
    "          play_order=[{\n",
    "              \"RR\": 0,\n",
    "              \"RP\": 0,\n",
    "              \"RS\": 0,\n",
    "              \"PR\": 0,\n",
    "              \"PP\": 0,\n",
    "              \"PS\": 0,\n",
    "              \"SR\": 0,\n",
    "              \"SP\": 0,\n",
    "              \"SS\": 0,\n",
    "          }]):\n",
    "\n",
    "    if not prev_opponent_play:    # If the previous play of the opponent is empty string '' it assumes it is 'R \n",
    "        prev_opponent_play = 'R'  \n",
    "    opponent_history.append(prev_opponent_play)\n",
    "\n",
    "    last_two = \"\".join(opponent_history[-2:])\n",
    "    if len(last_two) == 2:\n",
    "        play_order[0][last_two] += 1\n",
    "\n",
    "    potential_plays = [\n",
    "        prev_opponent_play + \"R\",\n",
    "        prev_opponent_play + \"P\",\n",
    "        prev_opponent_play + \"S\",\n",
    "    ]\n",
    "\n",
    "    sub_order = {\n",
    "        k: play_order[0][k]\n",
    "        for k in potential_plays if k in play_order[0]\n",
    "    }\n",
    "\n",
    "    prediction = max(sub_order, key=sub_order.get)[-1:]\n",
    "\n",
    "    ideal_response = {'P': 'S', 'R': 'P', 'S': 'R'}\n",
    "    return ideal_response[prediction]"
   ]
  },
  {
   "cell_type": "markdown",
   "id": "0adcd72f",
   "metadata": {},
   "source": [
    "### Quick notes about the strategies of the different players:\n",
    "\n",
    "### Abbey: This is the hardest one, she looks back two last moves of the opponent, find the most frequent pattern of them to develop a counter strategy, Markov Chain Method\n",
    "\n",
    "### Kris: Depending on the opponents previous play, picks up an ideal response \n",
    "### Mrugesh: Looks up the last 10 moves of the opponent and find the most frequent move to oppose it\n",
    "### Quincy: plays in a cyclic way from the pool of following five choices [\"R\", \"R\", \"P\", \"P\", \"S\"], starting from the second entry"
   ]
  },
  {
   "cell_type": "markdown",
   "id": "6c0521eb",
   "metadata": {},
   "source": [
    "### Countering each strategy can be time consuming, below I have taken a hybrid approach: to beat simple stragies like Quincy and Kris, I developed direct counter strategies. To beat Abbey we need to imitate her Markov Chain method, looking back further than her to her previous plays. This automatically helps us to bear Mrugesh as well. In fact, using only this Markov Chain method, we can also beat all the other opponents "
   ]
  },
  {
   "cell_type": "code",
   "execution_count": 65,
   "id": "daedc0cb",
   "metadata": {},
   "outputs": [],
   "source": [
    "last_five_op = {} # Empty dictonary to be filled with last five plays of the opponent to utilize MC method\n",
    "def player(prev_play, op_hist=[]):\n",
    "    \n",
    "    \n",
    "    global last_five_op\n",
    "   \n",
    "    ideal_response = {'P': 'S', 'R': 'P', 'S': 'R'}\n",
    "    \n",
    "    quincy = [\"S\", \"R\", \"P\", \"P\"]\n",
    "    \n",
    "    kris = [\"P\", \"P\", \"P\", \"P\"] # kris's moves according our first 4 plays, he will beat us for these plays\n",
    "    \n",
    "    choices = [\"R\", \"S\", \"P\"]\n",
    "    \n",
    "    \n",
    "    if prev_play != '': # keep track of the opponent history except ignoring the prev_play in the first round \n",
    "                        # which is a empty string\n",
    "        op_hist.append(prev_play)\n",
    "        \n",
    "    #print(op_hist)\n",
    "    \n",
    "    first_f = op_hist[:4] # First four elements of the opponents history:\n",
    "    \n",
    "    counter = len(op_hist) # counts the number of games played\n",
    "    \n",
    "    guess = 'R'\n",
    "        \n",
    "    if first_f == quincy and len(op_hist) > 3: # Quincy makes cyclic decisions folling a the pattern\n",
    "                                                  # above we can easily oppose it using the following line of code\n",
    "        guess = ideal_response[quincy[counter % len(quincy)]]\n",
    "    \n",
    "    if first_f == kris and len(op_hist) > 3:\n",
    "         \n",
    "        guess = choices[counter % len(choices)]\n",
    "    \n",
    "    # Mrugesh collects data from our last 10 moves and react according to our most frequent plays, given the way we\n",
    "    # play above we can actually detect if we are playing with Mrugesh or not and then beat him but Abbey is a bigger\n",
    "    # problem as she uses a sort Markov Chain method looking at our last two moves to predict our next.\n",
    "    # In particular, she collects the data of our most frequent last two plays in the 'PR', 'RP', 'SS' form,\n",
    "    # the given our last play from the set : \"P\" , \"R\", \"S\" with our possible next_play = \"R/P/S\"\n",
    "    # she is trying the guess our next_play in a statistical manner. \n",
    "    # If we want to beat her we should imitate her collecting data from last n moves to construct her next\n",
    "    # possible reaction in the same manner \n",
    "    \n",
    "    n = 4 # the order we look back will be n+1 \n",
    "    \n",
    "    if len(op_hist) > n:\n",
    "        \n",
    "        pattern_n = \"\".join(op_hist[-n:])\n",
    "        \n",
    "        if ''.join(op_hist[-(n+1):]) in last_five_op.keys():\n",
    "            \n",
    "            last_five_op[''.join(op_hist[-(n + 1):])] += 1\n",
    "        \n",
    "        else:\n",
    "            \n",
    "            last_five_op[''.join(op_hist[-(n + 1):])] = 1\n",
    "            \n",
    "        pot_plays = [pattern_n + 'P', pattern_n + 'R', pattern_n + 'S']\n",
    "        \n",
    "        for i in pot_plays:\n",
    "            if not i in last_five_op.keys():    # If the length 5 pattern is not in our dictionary, sets its value to 0\n",
    "                last_five_op[i] = 0\n",
    "        \n",
    "        sub_order = {k: last_five_op[k]\n",
    "        for k in pot_plays if k in last_five_op.keys()}\n",
    "        \n",
    "        prediction = max(sub_order, key=sub_order.get)[-1:]\n",
    "        \n",
    "        guess = ideal_response[prediction]\n",
    "     \n",
    "    \n",
    "    return guess    \n",
    "    \n",
    "\n",
    "    "
   ]
  },
  {
   "cell_type": "code",
   "execution_count": 67,
   "id": "a850b7e5",
   "metadata": {},
   "outputs": [],
   "source": [
    "# Before playing with each opponents below, re-run the cells above to define our player function\n",
    "# and opponent functions. This is becuase our player function and some of the opponent functions save \n",
    "# history between consecutive calls, leading to fluctuating results.  "
   ]
  },
  {
   "cell_type": "code",
   "execution_count": 50,
   "id": "9a3a6b6f",
   "metadata": {},
   "outputs": [
    {
     "name": "stdout",
     "output_type": "stream",
     "text": [
      "Final results: {'p1': 994, 'p2': 3, 'tie': 3}\n",
      "Player 1 win rate: 99.69909729187563%\n"
     ]
    },
    {
     "data": {
      "text/plain": [
       "99.69909729187563"
      ]
     },
     "execution_count": 50,
     "metadata": {},
     "output_type": "execute_result"
    }
   ],
   "source": [
    "play(player, quincy, 1000)"
   ]
  },
  {
   "cell_type": "code",
   "execution_count": 52,
   "id": "250a95e2",
   "metadata": {},
   "outputs": [
    {
     "name": "stdout",
     "output_type": "stream",
     "text": [
      "Final results: {'p1': 862, 'p2': 83, 'tie': 55}\n",
      "Player 1 win rate: 91.21693121693121%\n"
     ]
    },
    {
     "data": {
      "text/plain": [
       "91.21693121693121"
      ]
     },
     "execution_count": 52,
     "metadata": {},
     "output_type": "execute_result"
    }
   ],
   "source": [
    "play(player, kris, 1000)"
   ]
  },
  {
   "cell_type": "code",
   "execution_count": 66,
   "id": "bfccdd43",
   "metadata": {},
   "outputs": [
    {
     "name": "stdout",
     "output_type": "stream",
     "text": [
      "Final results: {'p1': 500, 'p2': 276, 'tie': 224}\n",
      "Player 1 win rate: 64.43298969072166%\n"
     ]
    },
    {
     "data": {
      "text/plain": [
       "64.43298969072166"
      ]
     },
     "execution_count": 66,
     "metadata": {},
     "output_type": "execute_result"
    }
   ],
   "source": [
    "play(player, abbey, 1000)"
   ]
  },
  {
   "cell_type": "code",
   "execution_count": 48,
   "id": "3b5fdc58",
   "metadata": {},
   "outputs": [
    {
     "name": "stdout",
     "output_type": "stream",
     "text": [
      "Final results: {'p1': 827, 'p2': 162, 'tie': 11}\n",
      "Player 1 win rate: 83.61981799797775%\n"
     ]
    },
    {
     "data": {
      "text/plain": [
       "83.61981799797775"
      ]
     },
     "execution_count": 48,
     "metadata": {},
     "output_type": "execute_result"
    }
   ],
   "source": [
    "play(player, mrugesh, 1000)"
   ]
  },
  {
   "cell_type": "code",
   "execution_count": null,
   "id": "e5f98d8d",
   "metadata": {},
   "outputs": [],
   "source": []
  }
 ],
 "metadata": {
  "kernelspec": {
   "display_name": "Python 3 (ipykernel)",
   "language": "python",
   "name": "python3"
  },
  "language_info": {
   "codemirror_mode": {
    "name": "ipython",
    "version": 3
   },
   "file_extension": ".py",
   "mimetype": "text/x-python",
   "name": "python",
   "nbconvert_exporter": "python",
   "pygments_lexer": "ipython3",
   "version": "3.9.12"
  }
 },
 "nbformat": 4,
 "nbformat_minor": 5
}
