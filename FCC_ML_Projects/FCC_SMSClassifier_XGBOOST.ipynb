{
 "cells": [
  {
   "cell_type": "code",
   "execution_count": 1,
   "id": "bad686f8",
   "metadata": {},
   "outputs": [],
   "source": [
    "import numpy as np\n",
    "import matplotlib.pyplot as plt\n",
    "import string\n",
    "\n",
    "import nltk    # Important library with many useful methods for natural language processing \n",
    "#nltk.download('stopwords') \n",
    "# download stopwords in english to be used later, use this if you have not done so before\n",
    "\n",
    "import pandas as pd\n",
    "from nltk.corpus import stopwords\n",
    "from xgboost import XGBClassifier\n",
    "\n",
    "from sklearn import metrics\n",
    "from sklearn.feature_extraction.text import CountVectorizer\n",
    "from sklearn.model_selection import train_test_split"
   ]
  },
  {
   "cell_type": "markdown",
   "id": "e102815f",
   "metadata": {},
   "source": [
    "## For this challenge, I did not follow the route of building a NN, instead used XGBOOST Classifier utilizing a bag of words (BoW) approach and pre-processing the text messages following the tools presented [here](https://blog.paperspace.com/nlp-spam-detection-application-with-scikitlearn-xgboost/) "
   ]
  },
  {
   "cell_type": "code",
   "execution_count": 2,
   "id": "568630a3",
   "metadata": {},
   "outputs": [],
   "source": [
    "# get data files\n",
    "#!wget https://cdn.freecodecamp.org/project-data/sms/train-data.tsv\n",
    "#!wget https://cdn.freecodecamp.org/project-data/sms/valid-data.tsv\n",
    "\n",
    "train_file_path = \"train-data.tsv\"\n",
    "test_file_path = \"valid-data.tsv\""
   ]
  },
  {
   "cell_type": "markdown",
   "id": "f01e2df3",
   "metadata": {},
   "source": [
    "## Load and Explore the data set, splitting is done for us"
   ]
  },
  {
   "cell_type": "code",
   "execution_count": 3,
   "id": "676f512d",
   "metadata": {},
   "outputs": [],
   "source": [
    "train_dataset = pd.read_csv('train-data.tsv', sep='\\t', header = None)\n",
    "test_dataset = pd.read_csv('valid-data.tsv', sep='\\t', header = None)"
   ]
  },
  {
   "cell_type": "code",
   "execution_count": 4,
   "id": "a28f5e7e",
   "metadata": {},
   "outputs": [
    {
     "data": {
      "text/html": [
       "<div>\n",
       "<style scoped>\n",
       "    .dataframe tbody tr th:only-of-type {\n",
       "        vertical-align: middle;\n",
       "    }\n",
       "\n",
       "    .dataframe tbody tr th {\n",
       "        vertical-align: top;\n",
       "    }\n",
       "\n",
       "    .dataframe thead th {\n",
       "        text-align: right;\n",
       "    }\n",
       "</style>\n",
       "<table border=\"1\" class=\"dataframe\">\n",
       "  <thead>\n",
       "    <tr style=\"text-align: right;\">\n",
       "      <th></th>\n",
       "      <th>0</th>\n",
       "      <th>1</th>\n",
       "    </tr>\n",
       "  </thead>\n",
       "  <tbody>\n",
       "    <tr>\n",
       "      <th>0</th>\n",
       "      <td>ham</td>\n",
       "      <td>i am in hospital da. . i will return home in e...</td>\n",
       "    </tr>\n",
       "    <tr>\n",
       "      <th>1</th>\n",
       "      <td>ham</td>\n",
       "      <td>not much, just some textin'. how bout you?</td>\n",
       "    </tr>\n",
       "    <tr>\n",
       "      <th>2</th>\n",
       "      <td>ham</td>\n",
       "      <td>i probably won't eat at all today. i think i'm...</td>\n",
       "    </tr>\n",
       "    <tr>\n",
       "      <th>3</th>\n",
       "      <td>ham</td>\n",
       "      <td>don‘t give a flying monkeys wot they think and...</td>\n",
       "    </tr>\n",
       "    <tr>\n",
       "      <th>4</th>\n",
       "      <td>ham</td>\n",
       "      <td>who are you seeing?</td>\n",
       "    </tr>\n",
       "  </tbody>\n",
       "</table>\n",
       "</div>"
      ],
      "text/plain": [
       "     0                                                  1\n",
       "0  ham  i am in hospital da. . i will return home in e...\n",
       "1  ham         not much, just some textin'. how bout you?\n",
       "2  ham  i probably won't eat at all today. i think i'm...\n",
       "3  ham  don‘t give a flying monkeys wot they think and...\n",
       "4  ham                                who are you seeing?"
      ]
     },
     "execution_count": 4,
     "metadata": {},
     "output_type": "execute_result"
    }
   ],
   "source": [
    "test_dataset.head()"
   ]
  },
  {
   "cell_type": "code",
   "execution_count": 5,
   "id": "82079cd6",
   "metadata": {},
   "outputs": [],
   "source": [
    "# Rename the columns as they appear as 0 for the class and 1 for the sms messages \n",
    "\n",
    "train_dataset = train_dataset.rename(columns = {0:'class',1:'sms'})\n",
    "test_dataset = test_dataset.rename(columns = {0:'class',1:'sms'})"
   ]
  },
  {
   "cell_type": "code",
   "execution_count": 6,
   "id": "1aa1dbf6",
   "metadata": {},
   "outputs": [
    {
     "data": {
      "text/html": [
       "<div>\n",
       "<style scoped>\n",
       "    .dataframe tbody tr th:only-of-type {\n",
       "        vertical-align: middle;\n",
       "    }\n",
       "\n",
       "    .dataframe tbody tr th {\n",
       "        vertical-align: top;\n",
       "    }\n",
       "\n",
       "    .dataframe thead th {\n",
       "        text-align: right;\n",
       "    }\n",
       "</style>\n",
       "<table border=\"1\" class=\"dataframe\">\n",
       "  <thead>\n",
       "    <tr style=\"text-align: right;\">\n",
       "      <th></th>\n",
       "      <th>class</th>\n",
       "      <th>sms</th>\n",
       "    </tr>\n",
       "  </thead>\n",
       "  <tbody>\n",
       "    <tr>\n",
       "      <th>0</th>\n",
       "      <td>ham</td>\n",
       "      <td>i am in hospital da. . i will return home in e...</td>\n",
       "    </tr>\n",
       "    <tr>\n",
       "      <th>1</th>\n",
       "      <td>ham</td>\n",
       "      <td>not much, just some textin'. how bout you?</td>\n",
       "    </tr>\n",
       "    <tr>\n",
       "      <th>2</th>\n",
       "      <td>ham</td>\n",
       "      <td>i probably won't eat at all today. i think i'm...</td>\n",
       "    </tr>\n",
       "    <tr>\n",
       "      <th>3</th>\n",
       "      <td>ham</td>\n",
       "      <td>don‘t give a flying monkeys wot they think and...</td>\n",
       "    </tr>\n",
       "    <tr>\n",
       "      <th>4</th>\n",
       "      <td>ham</td>\n",
       "      <td>who are you seeing?</td>\n",
       "    </tr>\n",
       "  </tbody>\n",
       "</table>\n",
       "</div>"
      ],
      "text/plain": [
       "  class                                                sms\n",
       "0   ham  i am in hospital da. . i will return home in e...\n",
       "1   ham         not much, just some textin'. how bout you?\n",
       "2   ham  i probably won't eat at all today. i think i'm...\n",
       "3   ham  don‘t give a flying monkeys wot they think and...\n",
       "4   ham                                who are you seeing?"
      ]
     },
     "execution_count": 6,
     "metadata": {},
     "output_type": "execute_result"
    }
   ],
   "source": [
    "test_dataset.head()"
   ]
  },
  {
   "cell_type": "code",
   "execution_count": 7,
   "id": "a126bcab",
   "metadata": {},
   "outputs": [
    {
     "data": {
      "text/html": [
       "<div>\n",
       "<style scoped>\n",
       "    .dataframe tbody tr th:only-of-type {\n",
       "        vertical-align: middle;\n",
       "    }\n",
       "\n",
       "    .dataframe tbody tr th {\n",
       "        vertical-align: top;\n",
       "    }\n",
       "\n",
       "    .dataframe thead th {\n",
       "        text-align: right;\n",
       "    }\n",
       "</style>\n",
       "<table border=\"1\" class=\"dataframe\">\n",
       "  <thead>\n",
       "    <tr style=\"text-align: right;\">\n",
       "      <th></th>\n",
       "      <th>class</th>\n",
       "      <th>sms</th>\n",
       "    </tr>\n",
       "  </thead>\n",
       "  <tbody>\n",
       "    <tr>\n",
       "      <th>0</th>\n",
       "      <td>ham</td>\n",
       "      <td>ahhhh...just woken up!had a bad dream about u ...</td>\n",
       "    </tr>\n",
       "    <tr>\n",
       "      <th>1</th>\n",
       "      <td>ham</td>\n",
       "      <td>you can never do nothing</td>\n",
       "    </tr>\n",
       "    <tr>\n",
       "      <th>2</th>\n",
       "      <td>ham</td>\n",
       "      <td>now u sound like manky scouse boy steve,like! ...</td>\n",
       "    </tr>\n",
       "    <tr>\n",
       "      <th>3</th>\n",
       "      <td>ham</td>\n",
       "      <td>mum say we wan to go then go... then she can s...</td>\n",
       "    </tr>\n",
       "    <tr>\n",
       "      <th>4</th>\n",
       "      <td>ham</td>\n",
       "      <td>never y lei... i v lazy... got wat? dat day ü ...</td>\n",
       "    </tr>\n",
       "  </tbody>\n",
       "</table>\n",
       "</div>"
      ],
      "text/plain": [
       "  class                                                sms\n",
       "0   ham  ahhhh...just woken up!had a bad dream about u ...\n",
       "1   ham                           you can never do nothing\n",
       "2   ham  now u sound like manky scouse boy steve,like! ...\n",
       "3   ham  mum say we wan to go then go... then she can s...\n",
       "4   ham  never y lei... i v lazy... got wat? dat day ü ..."
      ]
     },
     "execution_count": 7,
     "metadata": {},
     "output_type": "execute_result"
    }
   ],
   "source": [
    "train_dataset.head()"
   ]
  },
  {
   "cell_type": "code",
   "execution_count": 8,
   "id": "7db00beb",
   "metadata": {},
   "outputs": [
    {
     "name": "stdout",
     "output_type": "stream",
     "text": [
      " Total number of text messages is:  5571\n"
     ]
    }
   ],
   "source": [
    "print(\" Total number of text messages is: \", len(train_dataset) + len(test_dataset))"
   ]
  },
  {
   "cell_type": "code",
   "execution_count": 9,
   "id": "27938883",
   "metadata": {},
   "outputs": [
    {
     "data": {
      "text/plain": [
       "ham     3619\n",
       "spam     560\n",
       "Name: class, dtype: int64"
      ]
     },
     "execution_count": 9,
     "metadata": {},
     "output_type": "execute_result"
    }
   ],
   "source": [
    "train_dataset['class'].value_counts() # number of ham vs spam in the training set"
   ]
  },
  {
   "cell_type": "code",
   "execution_count": 10,
   "id": "9a9ca897",
   "metadata": {},
   "outputs": [
    {
     "data": {
      "text/plain": [
       "ham     1205\n",
       "spam     187\n",
       "Name: class, dtype: int64"
      ]
     },
     "execution_count": 10,
     "metadata": {},
     "output_type": "execute_result"
    }
   ],
   "source": [
    "test_dataset['class'].value_counts() # number of ham vs spam in the test set"
   ]
  },
  {
   "cell_type": "code",
   "execution_count": 11,
   "id": "a157b4d9",
   "metadata": {},
   "outputs": [
    {
     "data": {
      "text/html": [
       "<div>\n",
       "<style scoped>\n",
       "    .dataframe tbody tr th:only-of-type {\n",
       "        vertical-align: middle;\n",
       "    }\n",
       "\n",
       "    .dataframe tbody tr th {\n",
       "        vertical-align: top;\n",
       "    }\n",
       "\n",
       "    .dataframe thead th {\n",
       "        text-align: right;\n",
       "    }\n",
       "</style>\n",
       "<table border=\"1\" class=\"dataframe\">\n",
       "  <thead>\n",
       "    <tr style=\"text-align: right;\">\n",
       "      <th></th>\n",
       "      <th>class</th>\n",
       "      <th>sms</th>\n",
       "      <th>length</th>\n",
       "    </tr>\n",
       "  </thead>\n",
       "  <tbody>\n",
       "    <tr>\n",
       "      <th>0</th>\n",
       "      <td>ham</td>\n",
       "      <td>ahhhh...just woken up!had a bad dream about u ...</td>\n",
       "      <td>146</td>\n",
       "    </tr>\n",
       "    <tr>\n",
       "      <th>1</th>\n",
       "      <td>ham</td>\n",
       "      <td>you can never do nothing</td>\n",
       "      <td>24</td>\n",
       "    </tr>\n",
       "    <tr>\n",
       "      <th>2</th>\n",
       "      <td>ham</td>\n",
       "      <td>now u sound like manky scouse boy steve,like! ...</td>\n",
       "      <td>115</td>\n",
       "    </tr>\n",
       "    <tr>\n",
       "      <th>3</th>\n",
       "      <td>ham</td>\n",
       "      <td>mum say we wan to go then go... then she can s...</td>\n",
       "      <td>83</td>\n",
       "    </tr>\n",
       "    <tr>\n",
       "      <th>4</th>\n",
       "      <td>ham</td>\n",
       "      <td>never y lei... i v lazy... got wat? dat day ü ...</td>\n",
       "      <td>77</td>\n",
       "    </tr>\n",
       "  </tbody>\n",
       "</table>\n",
       "</div>"
      ],
      "text/plain": [
       "  class                                                sms  length\n",
       "0   ham  ahhhh...just woken up!had a bad dream about u ...     146\n",
       "1   ham                           you can never do nothing      24\n",
       "2   ham  now u sound like manky scouse boy steve,like! ...     115\n",
       "3   ham  mum say we wan to go then go... then she can s...      83\n",
       "4   ham  never y lei... i v lazy... got wat? dat day ü ...      77"
      ]
     },
     "execution_count": 11,
     "metadata": {},
     "output_type": "execute_result"
    }
   ],
   "source": [
    "# Lets compare the length of ham and spam messages in the training data set \n",
    "\n",
    "train_dataset['length'] = train_dataset['sms'].apply(len)\n",
    "train_dataset.head()"
   ]
  },
  {
   "cell_type": "code",
   "execution_count": 12,
   "id": "cb96a0ac",
   "metadata": {},
   "outputs": [
    {
     "data": {
      "text/plain": [
       "<AxesSubplot:ylabel='Frequency'>"
      ]
     },
     "execution_count": 12,
     "metadata": {},
     "output_type": "execute_result"
    },
    {
     "data": {
      "image/png": "[encoded data removed]",
      "text/plain": [
       "<Figure size 432x288 with 1 Axes>"
      ]
     },
     "metadata": {
      "needs_background": "light"
     },
     "output_type": "display_data"
    }
   ],
   "source": [
    "train_dataset['length'].value_counts().plot(bins = 50, kind = 'hist')"
   ]
  },
  {
   "cell_type": "code",
   "execution_count": 13,
   "id": "65bc50ba",
   "metadata": {},
   "outputs": [
    {
     "data": {
      "text/plain": [
       "array([<AxesSubplot:title={'center':'ham'}>,\n",
       "       <AxesSubplot:title={'center':'spam'}>], dtype=object)"
      ]
     },
     "execution_count": 13,
     "metadata": {},
     "output_type": "execute_result"
    },
    {
     "data": {
      "image/png": "[encoded data removed]",
      "text/plain": [
       "<Figure size 432x288 with 2 Axes>"
      ]
     },
     "metadata": {
      "needs_background": "light"
     },
     "output_type": "display_data"
    }
   ],
   "source": [
    "train_dataset.hist(column = 'length', by = 'class', bins = 40)"
   ]
  },
  {
   "cell_type": "code",
   "execution_count": null,
   "id": "8247ff82",
   "metadata": {},
   "outputs": [],
   "source": [
    "# Length of spam vs ham differs considerably, it could be actually used as a good feature to distinguish?\n",
    "# But we will drop it as we will utilize BoW approach "
   ]
  },
  {
   "cell_type": "code",
   "execution_count": 14,
   "id": "9e2d92ba",
   "metadata": {},
   "outputs": [
    {
     "data": {
      "text/html": [
       "<div>\n",
       "<style scoped>\n",
       "    .dataframe tbody tr th:only-of-type {\n",
       "        vertical-align: middle;\n",
       "    }\n",
       "\n",
       "    .dataframe tbody tr th {\n",
       "        vertical-align: top;\n",
       "    }\n",
       "\n",
       "    .dataframe thead th {\n",
       "        text-align: right;\n",
       "    }\n",
       "</style>\n",
       "<table border=\"1\" class=\"dataframe\">\n",
       "  <thead>\n",
       "    <tr style=\"text-align: right;\">\n",
       "      <th></th>\n",
       "      <th>class</th>\n",
       "      <th>sms</th>\n",
       "    </tr>\n",
       "  </thead>\n",
       "  <tbody>\n",
       "    <tr>\n",
       "      <th>0</th>\n",
       "      <td>ham</td>\n",
       "      <td>ahhhh...just woken up!had a bad dream about u ...</td>\n",
       "    </tr>\n",
       "    <tr>\n",
       "      <th>1</th>\n",
       "      <td>ham</td>\n",
       "      <td>you can never do nothing</td>\n",
       "    </tr>\n",
       "    <tr>\n",
       "      <th>2</th>\n",
       "      <td>ham</td>\n",
       "      <td>now u sound like manky scouse boy steve,like! ...</td>\n",
       "    </tr>\n",
       "    <tr>\n",
       "      <th>3</th>\n",
       "      <td>ham</td>\n",
       "      <td>mum say we wan to go then go... then she can s...</td>\n",
       "    </tr>\n",
       "    <tr>\n",
       "      <th>4</th>\n",
       "      <td>ham</td>\n",
       "      <td>never y lei... i v lazy... got wat? dat day ü ...</td>\n",
       "    </tr>\n",
       "  </tbody>\n",
       "</table>\n",
       "</div>"
      ],
      "text/plain": [
       "  class                                                sms\n",
       "0   ham  ahhhh...just woken up!had a bad dream about u ...\n",
       "1   ham                           you can never do nothing\n",
       "2   ham  now u sound like manky scouse boy steve,like! ...\n",
       "3   ham  mum say we wan to go then go... then she can s...\n",
       "4   ham  never y lei... i v lazy... got wat? dat day ü ..."
      ]
     },
     "execution_count": 14,
     "metadata": {},
     "output_type": "execute_result"
    }
   ],
   "source": [
    "train_dataset = train_dataset.drop('length', axis = 1)\n",
    "train_dataset.head()"
   ]
  },
  {
   "cell_type": "code",
   "execution_count": 15,
   "id": "722880cf",
   "metadata": {},
   "outputs": [
    {
     "data": {
      "text/plain": [
       "'never y lei... i v lazy... got wat? dat day ü send me da url cant work one...'"
      ]
     },
     "execution_count": 15,
     "metadata": {},
     "output_type": "execute_result"
    }
   ],
   "source": [
    "train_dataset['sms'][4]"
   ]
  },
  {
   "cell_type": "code",
   "execution_count": null,
   "id": "348b74c9",
   "metadata": {},
   "outputs": [],
   "source": [
    "# We see that there are punctuations in the text messages, we can define a text pre processor to remove them\n",
    "# We can also remove any non-alphabetic characters in a text message using .isalpha() method of string library\n",
    "\n",
    "# Finally, we can also remove the 'stop words', that are commonly used in a sentence, 'is', 'are' , 'a', since they\n",
    "# are commonly used but carry no useful information. This is especially the case if one uses Bag of Words approach,\n",
    "# which essentially counts the number of occurance of a word in a text. In this approach, \n",
    "# stop words assigned a greater frequency than the informational words and may pose a problem for the \n",
    "# predictions in a ML model "
   ]
  },
  {
   "cell_type": "code",
   "execution_count": null,
   "id": "59fdcc8f",
   "metadata": {},
   "outputs": [],
   "source": [
    "# Define a sms pre-processor below to remove punctuations, non-alphabetic characters and stopwords"
   ]
  },
  {
   "cell_type": "code",
   "execution_count": 16,
   "id": "e10ede4a",
   "metadata": {},
   "outputs": [],
   "source": [
    "def smspp(sms):\n",
    "    \n",
    "    remove_punc = []\n",
    "    \n",
    "    for char in sms:\n",
    "        if char not in string.punctuation:\n",
    "            remove_punc.append(char)\n",
    "    # remove_punc is a list of characters that is not a punctuation: i.e ?,!,. etc, so we need to join the \n",
    "    # characters again to compile the sms text, next we lower all the characters\n",
    "    \n",
    "    remove_punc = ''.join(remove_punc)\n",
    "    remove_punc = remove_punc.lower()\n",
    "    \n",
    "    # Finally we can remove the stop_words (sw) and non-alphabetic characters (nac), for the stop words we will use \n",
    "    \n",
    "    \n",
    "    rem_sw_and_nac = []\n",
    "    for word in remove_punc.split():\n",
    "        if word.isalpha() and word.lower() not in stopwords.words('english'):\n",
    "            rem_sw_and_nac.append(word)\n",
    "            \n",
    "    return rem_sw_and_nac # returns a list of words that are non stop_words and alphabetic\n",
    "        "
   ]
  },
  {
   "cell_type": "code",
   "execution_count": null,
   "id": "0f161627",
   "metadata": {},
   "outputs": [],
   "source": [
    "# Test our sms pre-processor "
   ]
  },
  {
   "cell_type": "code",
   "execution_count": 17,
   "id": "23d3c61f",
   "metadata": {},
   "outputs": [
    {
     "data": {
      "text/plain": [
       "['going', 'get', 'apples']"
      ]
     },
     "execution_count": 17,
     "metadata": {},
     "output_type": "execute_result"
    }
   ],
   "source": [
    "smspp('I am going to get 3 apples.')"
   ]
  },
  {
   "cell_type": "code",
   "execution_count": 18,
   "id": "89ec4d37",
   "metadata": {},
   "outputs": [
    {
     "data": {
      "text/plain": [
       "'ahhhh...just woken up!had a bad dream about u tho,so i dont like u right now :) i didnt know anything about comedy night but i guess im up for it.'"
      ]
     },
     "execution_count": 18,
     "metadata": {},
     "output_type": "execute_result"
    }
   ],
   "source": [
    "train_dataset['sms'][0]"
   ]
  },
  {
   "cell_type": "code",
   "execution_count": 19,
   "id": "a7da4112",
   "metadata": {},
   "outputs": [
    {
     "data": {
      "text/plain": [
       "['ahhhhjust',\n",
       " 'woken',\n",
       " 'uphad',\n",
       " 'bad',\n",
       " 'dream',\n",
       " 'u',\n",
       " 'thoso',\n",
       " 'dont',\n",
       " 'like',\n",
       " 'u',\n",
       " 'right',\n",
       " 'didnt',\n",
       " 'know',\n",
       " 'anything',\n",
       " 'comedy',\n",
       " 'night',\n",
       " 'guess',\n",
       " 'im']"
      ]
     },
     "execution_count": 19,
     "metadata": {},
     "output_type": "execute_result"
    }
   ],
   "source": [
    "smspp(train_dataset['sms'][0])"
   ]
  },
  {
   "cell_type": "code",
   "execution_count": null,
   "id": "cee6ba27",
   "metadata": {},
   "outputs": [],
   "source": [
    "# In order to return the sms messages that are labeled as ham or spam we use the following syntax"
   ]
  },
  {
   "cell_type": "code",
   "execution_count": 20,
   "id": "04f2541a",
   "metadata": {},
   "outputs": [
    {
     "data": {
      "text/plain": [
       "0        True\n",
       "1        True\n",
       "2        True\n",
       "3        True\n",
       "4        True\n",
       "        ...  \n",
       "4174     True\n",
       "4175     True\n",
       "4176    False\n",
       "4177    False\n",
       "4178     True\n",
       "Name: class, Length: 4179, dtype: bool"
      ]
     },
     "execution_count": 20,
     "metadata": {},
     "output_type": "execute_result"
    }
   ],
   "source": [
    "train_dataset['class'] == 'ham'"
   ]
  },
  {
   "cell_type": "code",
   "execution_count": 21,
   "id": "b7ae79c9",
   "metadata": {},
   "outputs": [
    {
     "data": {
      "text/plain": [
       "0       False\n",
       "1       False\n",
       "2       False\n",
       "3       False\n",
       "4       False\n",
       "        ...  \n",
       "4174    False\n",
       "4175    False\n",
       "4176     True\n",
       "4177     True\n",
       "4178    False\n",
       "Name: class, Length: 4179, dtype: bool"
      ]
     },
     "execution_count": 21,
     "metadata": {},
     "output_type": "execute_result"
    }
   ],
   "source": [
    "train_dataset['class'] == 'spam'"
   ]
  },
  {
   "cell_type": "code",
   "execution_count": 22,
   "id": "e6060cd6",
   "metadata": {},
   "outputs": [],
   "source": [
    "ham_msg = train_dataset[train_dataset['class'] == 'ham']['sms']"
   ]
  },
  {
   "cell_type": "code",
   "execution_count": 23,
   "id": "226ee4df",
   "metadata": {},
   "outputs": [],
   "source": [
    "spam_msg = train_dataset[train_dataset['class'] == 'spam']['sms']"
   ]
  },
  {
   "cell_type": "code",
   "execution_count": 24,
   "id": "6c7d6164",
   "metadata": {},
   "outputs": [
    {
     "name": "stdout",
     "output_type": "stream",
     "text": [
      "Total number of ham messages in the training set: 3619\n"
     ]
    }
   ],
   "source": [
    "print('Total number of ham messages in the training set:', len(ham_msg))"
   ]
  },
  {
   "cell_type": "code",
   "execution_count": 25,
   "id": "3c2c7432",
   "metadata": {},
   "outputs": [
    {
     "name": "stdout",
     "output_type": "stream",
     "text": [
      "Total number of spam messages in the training set: 560\n"
     ]
    }
   ],
   "source": [
    "print('Total number of spam messages in the training set:', len(spam_msg))"
   ]
  },
  {
   "cell_type": "code",
   "execution_count": 26,
   "id": "28f7ffc4",
   "metadata": {},
   "outputs": [],
   "source": [
    "# Let's look at common words in spam and ham messages in the training data set\n",
    "\n",
    "spam_words = []\n",
    "ham_words = []\n",
    "\n",
    "for msg in ham_msg:\n",
    "    ham_words += smspp(msg)\n",
    "\n",
    "for msg in spam_msg:\n",
    "    spam_words += smspp(msg)\n",
    "    "
   ]
  },
  {
   "cell_type": "code",
   "execution_count": 27,
   "id": "91ff8465",
   "metadata": {},
   "outputs": [],
   "source": [
    "# Lets make a value count for all the spam and ham words and show top 10 words in each category\n",
    "\n",
    "spam_val_count = pd.Series(spam_words).value_counts().head(10)\n",
    "ham_val_count = pd.Series(ham_words).value_counts().head(10)"
   ]
  },
  {
   "cell_type": "code",
   "execution_count": 28,
   "id": "0ca14a69",
   "metadata": {},
   "outputs": [
    {
     "name": "stdout",
     "output_type": "stream",
     "text": [
      "u       719\n",
      "im      346\n",
      "get     222\n",
      "ok      218\n",
      "ltgt    214\n",
      "dont    207\n",
      "go      199\n",
      "like    180\n",
      "call    179\n",
      "know    178\n",
      "dtype: int64\n"
     ]
    }
   ],
   "source": [
    "print(ham_val_count)"
   ]
  },
  {
   "cell_type": "code",
   "execution_count": 29,
   "id": "c0b55315",
   "metadata": {},
   "outputs": [
    {
     "name": "stdout",
     "output_type": "stream",
     "text": [
      "call      252\n",
      "free      165\n",
      "txt       116\n",
      "ur        113\n",
      "u          99\n",
      "mobile     95\n",
      "text       90\n",
      "stop       89\n",
      "reply      85\n",
      "claim      72\n",
      "dtype: int64\n"
     ]
    }
   ],
   "source": [
    "print(spam_val_count)"
   ]
  },
  {
   "cell_type": "code",
   "execution_count": 30,
   "id": "e053af39",
   "metadata": {},
   "outputs": [],
   "source": [
    "# Let's apply sms preprocessing to all training and test data sets \n",
    "\n",
    "train_dataset['sms'] = train_dataset['sms'].apply(smspp)\n",
    "test_dataset['sms'] = test_dataset['sms'].apply(smspp)"
   ]
  },
  {
   "cell_type": "code",
   "execution_count": 31,
   "id": "4aba8318",
   "metadata": {},
   "outputs": [
    {
     "data": {
      "text/html": [
       "<div>\n",
       "<style scoped>\n",
       "    .dataframe tbody tr th:only-of-type {\n",
       "        vertical-align: middle;\n",
       "    }\n",
       "\n",
       "    .dataframe tbody tr th {\n",
       "        vertical-align: top;\n",
       "    }\n",
       "\n",
       "    .dataframe thead th {\n",
       "        text-align: right;\n",
       "    }\n",
       "</style>\n",
       "<table border=\"1\" class=\"dataframe\">\n",
       "  <thead>\n",
       "    <tr style=\"text-align: right;\">\n",
       "      <th></th>\n",
       "      <th>class</th>\n",
       "      <th>sms</th>\n",
       "    </tr>\n",
       "  </thead>\n",
       "  <tbody>\n",
       "    <tr>\n",
       "      <th>0</th>\n",
       "      <td>ham</td>\n",
       "      <td>[ahhhhjust, woken, uphad, bad, dream, u, thoso...</td>\n",
       "    </tr>\n",
       "    <tr>\n",
       "      <th>1</th>\n",
       "      <td>ham</td>\n",
       "      <td>[never, nothing]</td>\n",
       "    </tr>\n",
       "    <tr>\n",
       "      <th>2</th>\n",
       "      <td>ham</td>\n",
       "      <td>[u, sound, like, manky, scouse, boy, stevelike...</td>\n",
       "    </tr>\n",
       "    <tr>\n",
       "      <th>3</th>\n",
       "      <td>ham</td>\n",
       "      <td>[mum, say, wan, go, go, shun, bian, watch, da,...</td>\n",
       "    </tr>\n",
       "    <tr>\n",
       "      <th>4</th>\n",
       "      <td>ham</td>\n",
       "      <td>[never, lei, v, lazy, got, wat, dat, day, ü, s...</td>\n",
       "    </tr>\n",
       "  </tbody>\n",
       "</table>\n",
       "</div>"
      ],
      "text/plain": [
       "  class                                                sms\n",
       "0   ham  [ahhhhjust, woken, uphad, bad, dream, u, thoso...\n",
       "1   ham                                   [never, nothing]\n",
       "2   ham  [u, sound, like, manky, scouse, boy, stevelike...\n",
       "3   ham  [mum, say, wan, go, go, shun, bian, watch, da,...\n",
       "4   ham  [never, lei, v, lazy, got, wat, dat, day, ü, s..."
      ]
     },
     "execution_count": 31,
     "metadata": {},
     "output_type": "execute_result"
    }
   ],
   "source": [
    "train_dataset.head()"
   ]
  },
  {
   "cell_type": "code",
   "execution_count": 32,
   "id": "a9ef1903",
   "metadata": {},
   "outputs": [
    {
     "data": {
      "text/html": [
       "<div>\n",
       "<style scoped>\n",
       "    .dataframe tbody tr th:only-of-type {\n",
       "        vertical-align: middle;\n",
       "    }\n",
       "\n",
       "    .dataframe tbody tr th {\n",
       "        vertical-align: top;\n",
       "    }\n",
       "\n",
       "    .dataframe thead th {\n",
       "        text-align: right;\n",
       "    }\n",
       "</style>\n",
       "<table border=\"1\" class=\"dataframe\">\n",
       "  <thead>\n",
       "    <tr style=\"text-align: right;\">\n",
       "      <th></th>\n",
       "      <th>class</th>\n",
       "      <th>sms</th>\n",
       "    </tr>\n",
       "  </thead>\n",
       "  <tbody>\n",
       "    <tr>\n",
       "      <th>0</th>\n",
       "      <td>ham</td>\n",
       "      <td>[hospital, da, return, home, evening]</td>\n",
       "    </tr>\n",
       "    <tr>\n",
       "      <th>1</th>\n",
       "      <td>ham</td>\n",
       "      <td>[much, textin, bout]</td>\n",
       "    </tr>\n",
       "    <tr>\n",
       "      <th>2</th>\n",
       "      <td>ham</td>\n",
       "      <td>[probably, wont, eat, today, think, im, gonna,...</td>\n",
       "    </tr>\n",
       "    <tr>\n",
       "      <th>3</th>\n",
       "      <td>ham</td>\n",
       "      <td>[give, flying, monkeys, wot, think, certainly,...</td>\n",
       "    </tr>\n",
       "    <tr>\n",
       "      <th>4</th>\n",
       "      <td>ham</td>\n",
       "      <td>[seeing]</td>\n",
       "    </tr>\n",
       "  </tbody>\n",
       "</table>\n",
       "</div>"
      ],
      "text/plain": [
       "  class                                                sms\n",
       "0   ham              [hospital, da, return, home, evening]\n",
       "1   ham                               [much, textin, bout]\n",
       "2   ham  [probably, wont, eat, today, think, im, gonna,...\n",
       "3   ham  [give, flying, monkeys, wot, think, certainly,...\n",
       "4   ham                                           [seeing]"
      ]
     },
     "execution_count": 32,
     "metadata": {},
     "output_type": "execute_result"
    }
   ],
   "source": [
    "test_dataset.head()"
   ]
  },
  {
   "cell_type": "code",
   "execution_count": 33,
   "id": "a967f199",
   "metadata": {},
   "outputs": [],
   "source": [
    "# We need to join the words back in each data set\n",
    "\n",
    "for row in range(len(train_dataset['sms'])):\n",
    "    train_dataset['sms'][row] = \" \".join(train_dataset['sms'][row])"
   ]
  },
  {
   "cell_type": "code",
   "execution_count": 34,
   "id": "9cfbc120",
   "metadata": {},
   "outputs": [
    {
     "data": {
      "text/html": [
       "<div>\n",
       "<style scoped>\n",
       "    .dataframe tbody tr th:only-of-type {\n",
       "        vertical-align: middle;\n",
       "    }\n",
       "\n",
       "    .dataframe tbody tr th {\n",
       "        vertical-align: top;\n",
       "    }\n",
       "\n",
       "    .dataframe thead th {\n",
       "        text-align: right;\n",
       "    }\n",
       "</style>\n",
       "<table border=\"1\" class=\"dataframe\">\n",
       "  <thead>\n",
       "    <tr style=\"text-align: right;\">\n",
       "      <th></th>\n",
       "      <th>class</th>\n",
       "      <th>sms</th>\n",
       "    </tr>\n",
       "  </thead>\n",
       "  <tbody>\n",
       "    <tr>\n",
       "      <th>0</th>\n",
       "      <td>ham</td>\n",
       "      <td>ahhhhjust woken uphad bad dream u thoso dont l...</td>\n",
       "    </tr>\n",
       "    <tr>\n",
       "      <th>1</th>\n",
       "      <td>ham</td>\n",
       "      <td>never nothing</td>\n",
       "    </tr>\n",
       "    <tr>\n",
       "      <th>2</th>\n",
       "      <td>ham</td>\n",
       "      <td>u sound like manky scouse boy stevelike travel...</td>\n",
       "    </tr>\n",
       "    <tr>\n",
       "      <th>3</th>\n",
       "      <td>ham</td>\n",
       "      <td>mum say wan go go shun bian watch da glass exh...</td>\n",
       "    </tr>\n",
       "    <tr>\n",
       "      <th>4</th>\n",
       "      <td>ham</td>\n",
       "      <td>never lei v lazy got wat dat day ü send da url...</td>\n",
       "    </tr>\n",
       "  </tbody>\n",
       "</table>\n",
       "</div>"
      ],
      "text/plain": [
       "  class                                                sms\n",
       "0   ham  ahhhhjust woken uphad bad dream u thoso dont l...\n",
       "1   ham                                      never nothing\n",
       "2   ham  u sound like manky scouse boy stevelike travel...\n",
       "3   ham  mum say wan go go shun bian watch da glass exh...\n",
       "4   ham  never lei v lazy got wat dat day ü send da url..."
      ]
     },
     "execution_count": 34,
     "metadata": {},
     "output_type": "execute_result"
    }
   ],
   "source": [
    "train_dataset.head()"
   ]
  },
  {
   "cell_type": "code",
   "execution_count": 35,
   "id": "04fdeb8e",
   "metadata": {},
   "outputs": [],
   "source": [
    "for row in range(len(test_dataset['sms'])):\n",
    "    test_dataset['sms'][row] = \" \".join(test_dataset['sms'][row])"
   ]
  },
  {
   "cell_type": "code",
   "execution_count": 36,
   "id": "478d58aa",
   "metadata": {},
   "outputs": [
    {
     "data": {
      "text/html": [
       "<div>\n",
       "<style scoped>\n",
       "    .dataframe tbody tr th:only-of-type {\n",
       "        vertical-align: middle;\n",
       "    }\n",
       "\n",
       "    .dataframe tbody tr th {\n",
       "        vertical-align: top;\n",
       "    }\n",
       "\n",
       "    .dataframe thead th {\n",
       "        text-align: right;\n",
       "    }\n",
       "</style>\n",
       "<table border=\"1\" class=\"dataframe\">\n",
       "  <thead>\n",
       "    <tr style=\"text-align: right;\">\n",
       "      <th></th>\n",
       "      <th>class</th>\n",
       "      <th>sms</th>\n",
       "    </tr>\n",
       "  </thead>\n",
       "  <tbody>\n",
       "    <tr>\n",
       "      <th>0</th>\n",
       "      <td>ham</td>\n",
       "      <td>hospital da return home evening</td>\n",
       "    </tr>\n",
       "    <tr>\n",
       "      <th>1</th>\n",
       "      <td>ham</td>\n",
       "      <td>much textin bout</td>\n",
       "    </tr>\n",
       "    <tr>\n",
       "      <th>2</th>\n",
       "      <td>ham</td>\n",
       "      <td>probably wont eat today think im gonna pop wee...</td>\n",
       "    </tr>\n",
       "    <tr>\n",
       "      <th>3</th>\n",
       "      <td>ham</td>\n",
       "      <td>give flying monkeys wot think certainly mind f...</td>\n",
       "    </tr>\n",
       "    <tr>\n",
       "      <th>4</th>\n",
       "      <td>ham</td>\n",
       "      <td>seeing</td>\n",
       "    </tr>\n",
       "  </tbody>\n",
       "</table>\n",
       "</div>"
      ],
      "text/plain": [
       "  class                                                sms\n",
       "0   ham                    hospital da return home evening\n",
       "1   ham                                   much textin bout\n",
       "2   ham  probably wont eat today think im gonna pop wee...\n",
       "3   ham  give flying monkeys wot think certainly mind f...\n",
       "4   ham                                             seeing"
      ]
     },
     "execution_count": 36,
     "metadata": {},
     "output_type": "execute_result"
    }
   ],
   "source": [
    "test_dataset.head()"
   ]
  },
  {
   "cell_type": "markdown",
   "id": "1e8b3f96",
   "metadata": {},
   "source": [
    "## Bag of Words Approach"
   ]
  },
  {
   "cell_type": "code",
   "execution_count": null,
   "id": "153546c7",
   "metadata": {},
   "outputs": [],
   "source": [
    "# The CountVectorizer() class in the scikit-learn library is useful in defining the BoW approach.\n",
    "# We first fit the vectorizer to the messages to fetch the whole vocabulary."
   ]
  },
  {
   "cell_type": "code",
   "execution_count": 38,
   "id": "dd765f67",
   "metadata": {},
   "outputs": [
    {
     "name": "stdout",
     "output_type": "stream",
     "text": [
      "20 BOW Features: ['abt' 'abta' 'aburo' 'ac' 'acc' 'accenture' 'accept' 'access' 'accidant'\n",
      " 'accident' 'accommodationvouchers' 'accomodations' 'accordingly'\n",
      " 'account' 'accounting' 'accounts' 'achanammarakheshqatar' 'ache' 'acid'\n",
      " 'acknowledgement']\n",
      "Total number of vocab words: 3573\n"
     ]
    }
   ],
   "source": [
    "# Initialize count vectorizer\n",
    "\n",
    "vectorizer = CountVectorizer()\n",
    "\n",
    "bow_xform_train = vectorizer.fit(train_dataset[\"sms\"])\n",
    "bow_xform_test = vectorizer.fit(test_dataset[\"sms\"])\n",
    "# Fetch the vocabulary set\n",
    "\n",
    "print(f\"20 BOW Features: {vectorizer.get_feature_names_out()[10:30]}\")\n",
    "print(f\"Total number of vocab words: {len(vectorizer.vocabulary_)}\")"
   ]
  },
  {
   "cell_type": "code",
   "execution_count": 40,
   "id": "da22c14e",
   "metadata": {},
   "outputs": [
    {
     "name": "stdout",
     "output_type": "stream",
     "text": [
      "Shape of sparse matrix: (4179, 3573)\n",
      "Amount of non-zero occurrences: 26599\n"
     ]
    }
   ],
   "source": [
    "# We transform the string messages to numerical vectors to pass in to our classifier model and training process.\n",
    "\n",
    "# Convert strings to vectors using BoW\n",
    "train_bow_set = bow_xform_train.transform(train_dataset[\"sms\"])\n",
    "test_bow_set = bow_xform_test.transform(test_dataset[\"sms\"])\n",
    "\n",
    "# Print the shape of the sparse matrix and count the number of non-zero occurrences for the training set\n",
    "\n",
    "print(f\"Shape of sparse matrix: {train_bow_set.shape}\")\n",
    "print(f\"Amount of non-zero occurrences: {train_bow_set.nnz}\")"
   ]
  },
  {
   "cell_type": "code",
   "execution_count": 41,
   "id": "a9dc4ea2",
   "metadata": {},
   "outputs": [
    {
     "data": {
      "text/plain": [
       "0    ham\n",
       "1    ham\n",
       "2    ham\n",
       "3    ham\n",
       "4    ham\n",
       "Name: class, dtype: object"
      ]
     },
     "execution_count": 41,
     "metadata": {},
     "output_type": "execute_result"
    }
   ],
   "source": [
    "# Before training, lets convert the LABELS in the train and test set to 0 or 1 for ham or spam\n",
    "\n",
    "train_dataset['class'].head()"
   ]
  },
  {
   "cell_type": "code",
   "execution_count": 42,
   "id": "5e29b733",
   "metadata": {},
   "outputs": [
    {
     "data": {
      "text/plain": [
       "0    ham\n",
       "1    ham\n",
       "2    ham\n",
       "3    ham\n",
       "4    ham\n",
       "Name: class, dtype: object"
      ]
     },
     "execution_count": 42,
     "metadata": {},
     "output_type": "execute_result"
    }
   ],
   "source": [
    "test_dataset['class'].head()"
   ]
  },
  {
   "cell_type": "code",
   "execution_count": null,
   "id": "9d2413b3",
   "metadata": {},
   "outputs": [],
   "source": [
    "# Convert the class ham or spam in to numerical values 0 or 1 for both datasets "
   ]
  },
  {
   "cell_type": "code",
   "execution_count": 43,
   "id": "bc8cbd3c",
   "metadata": {},
   "outputs": [],
   "source": [
    "dummy_train = pd.get_dummies(train_dataset['class'])\n",
    "dummy_test = pd.get_dummies(test_dataset['class'])"
   ]
  },
  {
   "cell_type": "code",
   "execution_count": 44,
   "id": "3d490fc4",
   "metadata": {},
   "outputs": [
    {
     "data": {
      "text/html": [
       "<div>\n",
       "<style scoped>\n",
       "    .dataframe tbody tr th:only-of-type {\n",
       "        vertical-align: middle;\n",
       "    }\n",
       "\n",
       "    .dataframe tbody tr th {\n",
       "        vertical-align: top;\n",
       "    }\n",
       "\n",
       "    .dataframe thead th {\n",
       "        text-align: right;\n",
       "    }\n",
       "</style>\n",
       "<table border=\"1\" class=\"dataframe\">\n",
       "  <thead>\n",
       "    <tr style=\"text-align: right;\">\n",
       "      <th></th>\n",
       "      <th>ham</th>\n",
       "      <th>spam</th>\n",
       "    </tr>\n",
       "  </thead>\n",
       "  <tbody>\n",
       "    <tr>\n",
       "      <th>0</th>\n",
       "      <td>1</td>\n",
       "      <td>0</td>\n",
       "    </tr>\n",
       "    <tr>\n",
       "      <th>1</th>\n",
       "      <td>1</td>\n",
       "      <td>0</td>\n",
       "    </tr>\n",
       "    <tr>\n",
       "      <th>2</th>\n",
       "      <td>1</td>\n",
       "      <td>0</td>\n",
       "    </tr>\n",
       "    <tr>\n",
       "      <th>3</th>\n",
       "      <td>1</td>\n",
       "      <td>0</td>\n",
       "    </tr>\n",
       "    <tr>\n",
       "      <th>4</th>\n",
       "      <td>1</td>\n",
       "      <td>0</td>\n",
       "    </tr>\n",
       "  </tbody>\n",
       "</table>\n",
       "</div>"
      ],
      "text/plain": [
       "   ham  spam\n",
       "0    1     0\n",
       "1    1     0\n",
       "2    1     0\n",
       "3    1     0\n",
       "4    1     0"
      ]
     },
     "execution_count": 44,
     "metadata": {},
     "output_type": "execute_result"
    }
   ],
   "source": [
    "dummy_train.head()"
   ]
  },
  {
   "cell_type": "code",
   "execution_count": 45,
   "id": "b4111452",
   "metadata": {},
   "outputs": [],
   "source": [
    "# Now add one of the column's above and remove the original 'class' coloumn from both of the data sets\n",
    "\n",
    "train_df_labels = train_dataset.drop('sms', axis = 1)"
   ]
  },
  {
   "cell_type": "code",
   "execution_count": 46,
   "id": "84cbab12",
   "metadata": {},
   "outputs": [],
   "source": [
    "test_df_labels = test_dataset.drop('sms', axis = 1)"
   ]
  },
  {
   "cell_type": "code",
   "execution_count": 47,
   "id": "51b32a7f",
   "metadata": {},
   "outputs": [],
   "source": [
    "train_labels = pd.concat((train_df_labels, dummy_train['spam']), axis = 1).drop('class', axis = 1)\n",
    "test_labels = pd.concat((test_df_labels, dummy_test['spam']), axis = 1).drop('class', axis = 1)"
   ]
  },
  {
   "cell_type": "code",
   "execution_count": 48,
   "id": "b121be49",
   "metadata": {},
   "outputs": [
    {
     "data": {
      "text/html": [
       "<div>\n",
       "<style scoped>\n",
       "    .dataframe tbody tr th:only-of-type {\n",
       "        vertical-align: middle;\n",
       "    }\n",
       "\n",
       "    .dataframe tbody tr th {\n",
       "        vertical-align: top;\n",
       "    }\n",
       "\n",
       "    .dataframe thead th {\n",
       "        text-align: right;\n",
       "    }\n",
       "</style>\n",
       "<table border=\"1\" class=\"dataframe\">\n",
       "  <thead>\n",
       "    <tr style=\"text-align: right;\">\n",
       "      <th></th>\n",
       "      <th>spam</th>\n",
       "    </tr>\n",
       "  </thead>\n",
       "  <tbody>\n",
       "    <tr>\n",
       "      <th>4174</th>\n",
       "      <td>0</td>\n",
       "    </tr>\n",
       "    <tr>\n",
       "      <th>4175</th>\n",
       "      <td>0</td>\n",
       "    </tr>\n",
       "    <tr>\n",
       "      <th>4176</th>\n",
       "      <td>1</td>\n",
       "    </tr>\n",
       "    <tr>\n",
       "      <th>4177</th>\n",
       "      <td>1</td>\n",
       "    </tr>\n",
       "    <tr>\n",
       "      <th>4178</th>\n",
       "      <td>0</td>\n",
       "    </tr>\n",
       "  </tbody>\n",
       "</table>\n",
       "</div>"
      ],
      "text/plain": [
       "      spam\n",
       "4174     0\n",
       "4175     0\n",
       "4176     1\n",
       "4177     1\n",
       "4178     0"
      ]
     },
     "execution_count": 48,
     "metadata": {},
     "output_type": "execute_result"
    }
   ],
   "source": [
    "train_labels.tail()"
   ]
  },
  {
   "cell_type": "code",
   "execution_count": 49,
   "id": "b3581f06",
   "metadata": {},
   "outputs": [
    {
     "data": {
      "text/html": [
       "<div>\n",
       "<style scoped>\n",
       "    .dataframe tbody tr th:only-of-type {\n",
       "        vertical-align: middle;\n",
       "    }\n",
       "\n",
       "    .dataframe tbody tr th {\n",
       "        vertical-align: top;\n",
       "    }\n",
       "\n",
       "    .dataframe thead th {\n",
       "        text-align: right;\n",
       "    }\n",
       "</style>\n",
       "<table border=\"1\" class=\"dataframe\">\n",
       "  <thead>\n",
       "    <tr style=\"text-align: right;\">\n",
       "      <th></th>\n",
       "      <th>spam</th>\n",
       "    </tr>\n",
       "  </thead>\n",
       "  <tbody>\n",
       "    <tr>\n",
       "      <th>1387</th>\n",
       "      <td>0</td>\n",
       "    </tr>\n",
       "    <tr>\n",
       "      <th>1388</th>\n",
       "      <td>0</td>\n",
       "    </tr>\n",
       "    <tr>\n",
       "      <th>1389</th>\n",
       "      <td>0</td>\n",
       "    </tr>\n",
       "    <tr>\n",
       "      <th>1390</th>\n",
       "      <td>1</td>\n",
       "    </tr>\n",
       "    <tr>\n",
       "      <th>1391</th>\n",
       "      <td>1</td>\n",
       "    </tr>\n",
       "  </tbody>\n",
       "</table>\n",
       "</div>"
      ],
      "text/plain": [
       "      spam\n",
       "1387     0\n",
       "1388     0\n",
       "1389     0\n",
       "1390     1\n",
       "1391     1"
      ]
     },
     "execution_count": 49,
     "metadata": {},
     "output_type": "execute_result"
    }
   ],
   "source": [
    "test_labels.tail()"
   ]
  },
  {
   "cell_type": "code",
   "execution_count": 50,
   "id": "4d16219e",
   "metadata": {},
   "outputs": [
    {
     "name": "stdout",
     "output_type": "stream",
     "text": [
      "Training set features size: (4179, 3573)\n",
      "Training set labels size: (4179, 1)\n",
      "Test set features size: (1392, 3573)\n",
      "Test set labels size: (1392, 1)\n"
     ]
    }
   ],
   "source": [
    "# Lets have a look at the shape of train and test sets features and labels \n",
    "\n",
    "print(f'Training set features size: {train_bow_set.shape}')\n",
    "print(f'Training set labels size: {train_labels.shape}')\n",
    "\n",
    "print(f'Test set features size: {test_bow_set.shape}')\n",
    "print(f'Test set labels size: {test_labels.shape}')"
   ]
  },
  {
   "cell_type": "code",
   "execution_count": null,
   "id": "bdc42f36",
   "metadata": {},
   "outputs": [],
   "source": [
    "# Recall that 3573 is the total number of words in all the text messages we analyzed"
   ]
  },
  {
   "cell_type": "code",
   "execution_count": 51,
   "id": "420e36cb",
   "metadata": {},
   "outputs": [
    {
     "data": {
      "text/plain": [
       "XGBClassifier(base_score=None, booster=None, callbacks=None,\n",
       "              colsample_bylevel=None, colsample_bynode=None,\n",
       "              colsample_bytree=None, early_stopping_rounds=None,\n",
       "              enable_categorical=False, eval_metric=None, feature_types=None,\n",
       "              gamma=None, gpu_id=None, grow_policy=None, importance_type=None,\n",
       "              interaction_constraints=None, learning_rate=None, max_bin=None,\n",
       "              max_cat_threshold=None, max_cat_to_onehot=None,\n",
       "              max_delta_step=None, max_depth=None, max_leaves=None,\n",
       "              min_child_weight=None, missing=nan, monotone_constraints=None,\n",
       "              n_estimators=100, n_jobs=None, num_parallel_tree=None,\n",
       "              predictor=None, random_state=None, ...)"
      ]
     },
     "execution_count": 51,
     "metadata": {},
     "output_type": "execute_result"
    }
   ],
   "source": [
    "# Train an xgboost classifier\n",
    "\n",
    "# Instantiate our model\n",
    "spam_classify = XGBClassifier()\n",
    "\n",
    "# Fit the model to the training data\n",
    "spam_classify.fit(train_bow_set, train_labels)"
   ]
  },
  {
   "cell_type": "code",
   "execution_count": 52,
   "id": "a4469f1c",
   "metadata": {},
   "outputs": [
    {
     "name": "stdout",
     "output_type": "stream",
     "text": [
      "Accuracy of the model on the training dataset: 0.983\n"
     ]
    }
   ],
   "source": [
    "# Make prediction for all the texts in the training set using our model and compare with the actual labels \n",
    "# using metrics.accuracy_score \n",
    "\n",
    "predict_train = spam_classify.predict(train_bow_set)\n",
    "\n",
    "print(\n",
    "    f\"Accuracy of the model on the training dataset: {metrics.accuracy_score(train_labels, predict_train):0.3f}\"\n",
    ")"
   ]
  },
  {
   "cell_type": "code",
   "execution_count": 53,
   "id": "df5f2da6",
   "metadata": {},
   "outputs": [],
   "source": [
    "# One example of prediction using a text message from our training set \n",
    "\n",
    "row = 320 # change this to check other text messages "
   ]
  },
  {
   "cell_type": "code",
   "execution_count": 54,
   "id": "8e97a187",
   "metadata": {},
   "outputs": [
    {
     "name": "stdout",
     "output_type": "stream",
     "text": [
      "Model prediction: 0\n"
     ]
    }
   ],
   "source": [
    "print(f'Model prediction: {spam_classify.predict(bow_xform_train.transform([train_dataset[\"sms\"][row]]))[0]}')"
   ]
  },
  {
   "cell_type": "code",
   "execution_count": 55,
   "id": "2ca67d08",
   "metadata": {},
   "outputs": [
    {
     "name": "stdout",
     "output_type": "stream",
     "text": [
      "Actual Label: 0\n"
     ]
    }
   ],
   "source": [
    "print(f\"Actual Label: {train_labels['spam'][row]}\")"
   ]
  },
  {
   "cell_type": "code",
   "execution_count": 56,
   "id": "9f5fda67",
   "metadata": {},
   "outputs": [
    {
     "name": "stdout",
     "output_type": "stream",
     "text": [
      "Probability of sms to be spam: 0.01571720279753208\n"
     ]
    }
   ],
   "source": [
    "print(f'Probability of sms to be spam: {spam_classify.predict_proba(bow_xform_train.transform([train_dataset[\"sms\"][row]]))[0][1]}')"
   ]
  },
  {
   "cell_type": "code",
   "execution_count": 57,
   "id": "9e730df1",
   "metadata": {},
   "outputs": [],
   "source": [
    "# function to predict messages based on model\n",
    "# (should return list containing prediction and label, ex. [0.008318834938108921, 'ham'])\n",
    "def predict_message(pred_text):\n",
    "    \n",
    "    # 0 or 1 for ham/spam\n",
    "    predict = spam_classify.predict(bow_xform_train.transform([pred_text]))[0] \n",
    "    \n",
    "    # the probability of spam\n",
    "    prob = spam_classify.predict_proba(bow_xform_train.transform([pred_text]))[0][1] \n",
    "    \n",
    "    if predict == 0:\n",
    "        prediction = [1-prob, 'ham']\n",
    "    if predict == 1:\n",
    "        prediction = [prob, 'spam']\n",
    "    \n",
    "    return (prediction)"
   ]
  },
  {
   "cell_type": "code",
   "execution_count": 58,
   "id": "366a0c8c",
   "metadata": {},
   "outputs": [
    {
     "name": "stdout",
     "output_type": "stream",
     "text": [
      "[0.9842827972024679, 'ham']\n"
     ]
    }
   ],
   "source": [
    "pred_text = \"how are you doing today?\"\n",
    "\n",
    "prediction = predict_message(pred_text)\n",
    "print(prediction)"
   ]
  },
  {
   "cell_type": "code",
   "execution_count": 59,
   "id": "24e48949",
   "metadata": {},
   "outputs": [],
   "source": [
    "# Run this cell to test your function and model. Do not modify contents.\n",
    "def test_predictions():\n",
    "    test_messages = [\"how are you doing today\",\n",
    "                   \"sale today! to stop texts call 98912460324\",\n",
    "                   \"i dont want to go. can we try it a different day? available sat\",\n",
    "                   \"our new mobile video service is live. just install on your phone to start watching.\",\n",
    "                   \"you have won £1000 cash! call to claim your prize.\",\n",
    "                   \"i'll bring it tomorrow. don't forget the milk.\",\n",
    "                   \"wow, is your arm alright. that happened to me one time too\"\n",
    "                  ]\n",
    "    test_answers = [\"ham\", \"spam\", \"ham\", \"spam\", \"spam\", \"ham\", \"ham\"]\n",
    "    \n",
    "    passed = True\n",
    "    \n",
    "    for msg, ans in zip(test_messages, test_answers):\n",
    "        prediction = predict_message(msg)\n",
    "        \n",
    "        if prediction[1] != ans:\n",
    "            passed = False\n",
    "            \n",
    "    if passed:\n",
    "        print(\"You passed the challenge. Great job!\")\n",
    "    else:\n",
    "        print(\"You haven't passed yet. Keep trying.\")"
   ]
  },
  {
   "cell_type": "code",
   "execution_count": 60,
   "id": "fc5213f6",
   "metadata": {},
   "outputs": [
    {
     "name": "stdout",
     "output_type": "stream",
     "text": [
      "You passed the challenge. Great job!\n"
     ]
    }
   ],
   "source": [
    "test_predictions()"
   ]
  }
 ],
 "metadata": {
  "kernelspec": {
   "display_name": "Python 3 (ipykernel)",
   "language": "python",
   "name": "python3"
  },
  "language_info": {
   "codemirror_mode": {
    "name": "ipython",
    "version": 3
   },
   "file_extension": ".py",
   "mimetype": "text/x-python",
   "name": "python",
   "nbconvert_exporter": "python",
   "pygments_lexer": "ipython3",
   "version": "3.9.12"
  }
 },
 "nbformat": 4,
 "nbformat_minor": 5
}
