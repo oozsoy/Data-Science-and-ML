{
 "cells": [
  {
   "cell_type": "code",
   "execution_count": 140,
   "id": "6e2e1208",
   "metadata": {},
   "outputs": [],
   "source": [
    "import numpy as np"
   ]
  },
  {
   "cell_type": "code",
   "execution_count": 141,
   "id": "3270c080",
   "metadata": {},
   "outputs": [],
   "source": [
    "def calculate(inl, dic = {}):\n",
    "    \n",
    "    if len(inl) < 9:\n",
    "        \n",
    "        raise ValueError(\"List must contain nine numbers.\")\n",
    "    \n",
    "    else:\n",
    "        \n",
    "        tm = np.array(inl).reshape(3,3)\n",
    "        dicz = {'mean': 0 ,'variance': 1,'standard deviation': 2,'max': 3,'min': 4,'sum': 5}\n",
    "        \n",
    "        for key,val in dicz.items():\n",
    "        \n",
    "            if val == 0:\n",
    "            \n",
    "                dic[key] = [np.mean(tm, axis = 0).tolist(), np.mean(tm, axis = 1).tolist(), np.mean(tm)]\n",
    "            \n",
    "            if val == 1:\n",
    "            \n",
    "                dic[key] = [np.var(tm, axis = 0).tolist(), np.var(tm, axis = 1).tolist(), np.var(tm)]\n",
    "        \n",
    "            if val == 2:\n",
    "        \n",
    "                dic[key] = [np.std(tm, axis = 0).tolist(), np.std(tm, axis = 1).tolist(), np.std(tm)]\n",
    "        \n",
    "            if val == 3:\n",
    "        \n",
    "                dic[key] = [np.max(tm, axis = 0).tolist(), np.max(tm, axis = 1).tolist(), np.max(tm)]\n",
    "    \n",
    "            if val == 4:\n",
    "        \n",
    "                dic[key] = [np.min(tm, axis = 0).tolist(), np.min(tm, axis = 1).tolist(), np.min(tm)]\n",
    "        \n",
    "            if val == 5:\n",
    "        \n",
    "                dic[key] = [np.sum(tm, axis = 0).tolist(), np.sum(tm, axis = 1).tolist(), np.sum(tm)]\n",
    "        \n",
    "    return dic"
   ]
  },
  {
   "cell_type": "code",
   "execution_count": 145,
   "id": "4e305361",
   "metadata": {},
   "outputs": [],
   "source": [
    "tl = [0,1,2,3,4,5,6,7]"
   ]
  },
  {
   "cell_type": "code",
   "execution_count": 146,
   "id": "ff7d9f10",
   "metadata": {},
   "outputs": [
    {
     "ename": "ValueError",
     "evalue": "List must contain nine numbers.",
     "output_type": "error",
     "traceback": [
      "\u001b[0;31m---------------------------------------------------------------------------\u001b[0m",
      "\u001b[0;31mValueError\u001b[0m                                Traceback (most recent call last)",
      "Input \u001b[0;32mIn [146]\u001b[0m, in \u001b[0;36m<cell line: 1>\u001b[0;34m()\u001b[0m\n\u001b[0;32m----> 1\u001b[0m \u001b[43mcalculate\u001b[49m\u001b[43m(\u001b[49m\u001b[43mtl\u001b[49m\u001b[43m)\u001b[49m\n",
      "Input \u001b[0;32mIn [141]\u001b[0m, in \u001b[0;36mcalculate\u001b[0;34m(inl, dic)\u001b[0m\n\u001b[1;32m      1\u001b[0m \u001b[38;5;28;01mdef\u001b[39;00m \u001b[38;5;21mcalculate\u001b[39m(inl, dic \u001b[38;5;241m=\u001b[39m {}):\n\u001b[1;32m      3\u001b[0m     \u001b[38;5;28;01mif\u001b[39;00m \u001b[38;5;28mlen\u001b[39m(inl) \u001b[38;5;241m<\u001b[39m \u001b[38;5;241m9\u001b[39m:\n\u001b[0;32m----> 5\u001b[0m         \u001b[38;5;28;01mraise\u001b[39;00m \u001b[38;5;167;01mValueError\u001b[39;00m(\u001b[38;5;124m\"\u001b[39m\u001b[38;5;124mList must contain nine numbers.\u001b[39m\u001b[38;5;124m\"\u001b[39m)\n\u001b[1;32m      7\u001b[0m     \u001b[38;5;28;01melse\u001b[39;00m:\n\u001b[1;32m      9\u001b[0m         tm \u001b[38;5;241m=\u001b[39m np\u001b[38;5;241m.\u001b[39marray(inl)\u001b[38;5;241m.\u001b[39mreshape(\u001b[38;5;241m3\u001b[39m,\u001b[38;5;241m3\u001b[39m)\n",
      "\u001b[0;31mValueError\u001b[0m: List must contain nine numbers."
     ]
    }
   ],
   "source": [
    "calculate(tl)"
   ]
  },
  {
   "cell_type": "code",
   "execution_count": null,
   "id": "f51c4667",
   "metadata": {},
   "outputs": [],
   "source": []
  }
 ],
 "metadata": {
  "kernelspec": {
   "display_name": "Python 3 (ipykernel)",
   "language": "python",
   "name": "python3"
  },
  "language_info": {
   "codemirror_mode": {
    "name": "ipython",
    "version": 3
   },
   "file_extension": ".py",
   "mimetype": "text/x-python",
   "name": "python",
   "nbconvert_exporter": "python",
   "pygments_lexer": "ipython3",
   "version": "3.9.12"
  }
 },
 "nbformat": 4,
 "nbformat_minor": 5
}
